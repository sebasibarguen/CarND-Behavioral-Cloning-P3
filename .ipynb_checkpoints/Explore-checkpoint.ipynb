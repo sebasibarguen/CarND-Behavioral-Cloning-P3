{
 "cells": [
  {
   "cell_type": "code",
   "execution_count": 1,
   "metadata": {
    "collapsed": false
   },
   "outputs": [
    {
     "name": "stderr",
     "output_type": "stream",
     "text": [
      "Using TensorFlow backend.\n"
     ]
    }
   ],
   "source": [
    "import os\n",
    "import argparse\n",
    "import json\n",
    "from keras.models import Sequential\n",
    "from keras.layers import Dense, Dropout, Flatten, Lambda, ELU\n",
    "from keras.layers.convolutional import Convolution2D\n",
    "\n"
   ]
  },
  {
   "cell_type": "markdown",
   "metadata": {},
   "source": [
    "## Things to try\n",
    "- New NN architecture\n",
    "\n",
    "    - \n",
    "\n",
    "### Done\n",
    "- Try Comma AI model\n",
    "- Try Nvidia Model\n",
    "- Augment data with left and right images\n",
    "\n",
    "- Preprocess input\n",
    "    - Black and White: tried it, did not produce better results"
   ]
  },
  {
   "cell_type": "code",
   "execution_count": 2,
   "metadata": {
    "collapsed": false
   },
   "outputs": [],
   "source": [
    "def get_commaai_model(img_shape):\n",
    "    \"\"\"\n",
    "    Creates the comma.ai model, and returns a reference to the model\n",
    "    The comma.ai model's original source code is available at:\n",
    "    https://github.com/commaai/research/blob/master/train_steering_model.py\n",
    "    \"\"\"\n",
    "    row, col, ch = img_shape  # camera format\n",
    "\n",
    "    model = Sequential()\n",
    "    model.add(Lambda(lambda x: x/127.5 - 1.,\n",
    "        input_shape=(row, col, ch),\n",
    "        output_shape=(row, col, ch)))\n",
    "    model.add(Convolution2D(16, 8, 8, subsample=(4, 4), border_mode='same'))\n",
    "    model.add(ELU())\n",
    "    model.add(Convolution2D(32, 5, 5, subsample=(2, 2), border_mode='same'))\n",
    "    model.add(ELU())\n",
    "    model.add(Convolution2D(64, 5, 5, subsample=(2, 2), border_mode='same'))\n",
    "    model.add(Flatten())\n",
    "    model.add(Dropout(.2))\n",
    "    model.add(ELU())\n",
    "    model.add(Dense(512))\n",
    "    model.add(Dropout(.5))\n",
    "    model.add(ELU())\n",
    "    model.add(Dense(1))\n",
    "\n",
    "    model.compile(optimizer='adam', loss='mean_squared_error', metrics=['accuracy'])\n",
    "\n",
    "    return model"
   ]
  },
  {
   "cell_type": "code",
   "execution_count": 3,
   "metadata": {
    "collapsed": true
   },
   "outputs": [],
   "source": [
    "def get_nvidia_model(img_shape):\n",
    "    \"\"\"\n",
    "    Creates the comma.ai model, and returns a reference to the model\n",
    "    The comma.ai model's original source code is available at:\n",
    "    https://github.com/commaai/research/blob/master/train_steering_model.py\n",
    "    \"\"\"\n",
    "    row, col, ch = img_shape  # camera format\n",
    "\n",
    "    model = Sequential()\n",
    "    model.add(Convolution2D(24, 5, 5, input_shape=(row, col, ch), subsample=(4, 4), border_mode='same'))\n",
    "    model.add(ELU())\n",
    "    model.add(Convolution2D(36, 5, 5, subsample=(2, 2), border_mode='same'))\n",
    "    model.add(ELU())\n",
    "    model.add(Convolution2D(48, 5, 5, subsample=(2, 2), border_mode='same'))\n",
    "    model.add(ELU())\n",
    "    model.add(Convolution2D(64, 3, 3, subsample=(2, 2), border_mode='same'))\n",
    "    model.add(ELU())\n",
    "    model.add(Convolution2D(64, 3, 3, subsample=(2, 2), border_mode='same'))\n",
    "    model.add(Flatten())\n",
    "    model.add(Dropout(0.2))\n",
    "    model.add(ELU())\n",
    "    model.add(Dense(1164))\n",
    "    model.add(Dropout(0.2))\n",
    "    model.add(ELU())\n",
    "    model.add(Dense(100))\n",
    "    model.add(ELU())\n",
    "    model.add(Dense(50))\n",
    "    model.add(ELU())\n",
    "    model.add(Dense(10))\n",
    "    model.add(Dense(1))\n",
    "\n",
    "    model.compile(optimizer='adam', loss='mean_squared_error', metrics=['accuracy'])\n",
    "\n",
    "    return model"
   ]
  },
  {
   "cell_type": "code",
   "execution_count": 4,
   "metadata": {
    "collapsed": false
   },
   "outputs": [],
   "source": [
    "import cv2\n",
    "import numpy as np\n",
    "import pandas as pd\n",
    "import skimage.transform as sktransform\n",
    "import matplotlib.pyplot as plt\n",
    "import pickle\n"
   ]
  },
  {
   "cell_type": "code",
   "execution_count": 5,
   "metadata": {
    "collapsed": false
   },
   "outputs": [
    {
     "name": "stdout",
     "output_type": "stream",
     "text": [
      "Done\n"
     ]
    }
   ],
   "source": [
    "\n",
    "\n",
    "def crop_image(image, top_offset=.375, bottom_offset=.125):\n",
    "    \"\"\"\n",
    "    Applies preprocessing pipeline to an image: crops `top_offset` and `bottom_offset`\n",
    "    portions of image, resizes to 32x128 px and scales pixel values to [0, 1].\n",
    "    \"\"\"\n",
    "    top = int(top_offset * image.shape[0])\n",
    "    bottom = int(bottom_offset * image.shape[0])\n",
    "    image = sktransform.resize(image[top:-bottom, :], (32, 128, 3))\n",
    "    return image\n",
    "\n",
    "\n",
    "def get_data(log_file):\n",
    "    \n",
    "    angles = ['center', 'left', 'right']\n",
    "    angle_offset = [0, 0.25, -0.25]\n",
    "    \n",
    "    # Read log file and get root directory\n",
    "    df = pd.read_csv(log_file, sep=',')\n",
    "    root_dir = '/'.join(log_file.split('/')[:-1])\n",
    "    \n",
    "    features = []\n",
    "    labels = []\n",
    "    \n",
    "    for i, row in df.iterrows():\n",
    "        for j, camera in enumerate(angles):\n",
    "            \n",
    "            # If image does not exist, skip it\n",
    "            # Checking if flot because Pandas puts float(0) in empty cells\n",
    "            if not row[j] or type(row[j]) is float:\n",
    "                continue\n",
    "            \n",
    "            img_path = root_dir + '/' + row[j].strip()\n",
    "            img = cv2.imread(img_path)\n",
    "            img = crop_image(img)\n",
    "            \n",
    "            angle = float(row[3]) + angle_offset[j]\n",
    "            \n",
    "            features.append(img)\n",
    "            labels.append(angle)\n",
    "    \n",
    "    features = np.asarray(features)\n",
    "    labels = np.asarray(labels)\n",
    "    return features, labels\n",
    "\n",
    "features, labels = get_data('data/driving_log.csv')\n",
    "print('Done')\n"
   ]
  },
  {
   "cell_type": "code",
   "execution_count": null,
   "metadata": {
    "collapsed": false
   },
   "outputs": [],
   "source": [
    "# data = {\n",
    "#     'features': features,\n",
    "#     'labels': labels\n",
    "# }\n",
    "# with open('data.p', 'w') as f:\n",
    "#     pickle.dump(data, f)"
   ]
  },
  {
   "cell_type": "code",
   "execution_count": 8,
   "metadata": {
    "collapsed": false
   },
   "outputs": [],
   "source": [
    "from sklearn.model_selection import train_test_split\n",
    "\n",
    "X_train, X_val, y_train, y_val = train_test_split(features, labels, test_size=0.3)"
   ]
  },
  {
   "cell_type": "code",
   "execution_count": null,
   "metadata": {
    "collapsed": false
   },
   "outputs": [],
   "source": [
    "print(X_train.shape[1:])\n",
    "\n",
    "model = get_commaai_model(X_train.shape[1:])\n",
    "history = model.fit(X_train, y_train, nb_epoch=5)\n",
    "print(history.history)\n",
    "\n",
    "results = model.evaluate(X_val, y_val)\n",
    "print(results)\n",
    "\n",
    "model.save('comma_model.h5')"
   ]
  },
  {
   "cell_type": "code",
   "execution_count": null,
   "metadata": {
    "collapsed": false
   },
   "outputs": [],
   "source": [
    "nvidia_model = get_nvidia_model(X_train.shape[1:])\n",
    "history = nvidia_model.fit(X_train, y_train, nb_epoch=5)\n",
    "print(history.history)\n",
    "\n",
    "results = nvidia_model.evaluate(X_val, y_val)\n",
    "print(results)\n",
    "nvidia_model.save('nvidia_model.h5')"
   ]
  },
  {
   "cell_type": "code",
   "execution_count": null,
   "metadata": {
    "collapsed": true
   },
   "outputs": [],
   "source": [
    "\n"
   ]
  }
 ],
 "metadata": {
  "anaconda-cloud": {},
  "kernelspec": {
   "display_name": "Python 3",
   "language": "python",
   "name": "python3"
  },
  "language_info": {
   "codemirror_mode": {
    "name": "ipython",
    "version": 3
   },
   "file_extension": ".py",
   "mimetype": "text/x-python",
   "name": "python",
   "nbconvert_exporter": "python",
   "pygments_lexer": "ipython3",
   "version": "3.5.2"
  },
  "widgets": {
   "state": {},
   "version": "1.1.2"
  }
 },
 "nbformat": 4,
 "nbformat_minor": 1
}
