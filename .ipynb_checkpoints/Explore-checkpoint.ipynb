{
 "cells": [
  {
   "cell_type": "code",
   "execution_count": 2,
   "metadata": {
    "collapsed": false
   },
   "outputs": [],
   "source": [
    "import os\n",
    "import argparse\n",
    "import json\n",
    "from keras.models import Sequential\n",
    "from keras.layers import Dense, Dropout, Flatten, Lambda, MaxPooling2D\n",
    "from keras.layers.convolutional import Convolution2D\n",
    "\n"
   ]
  },
  {
   "cell_type": "markdown",
   "metadata": {},
   "source": [
    "## Things to try\n",
    "- New NN architecture\n",
    "\n",
    "    - \n",
    "\n",
    "### Done\n",
    "- Try Comma AI model\n",
    "- Try Nvidia Model\n",
    "- Augment data with left and right images\n",
    "\n",
    "- Preprocess input\n",
    "    - Black and White: tried it, did not produce better results"
   ]
  },
  {
   "cell_type": "code",
   "execution_count": 3,
   "metadata": {
    "collapsed": false
   },
   "outputs": [],
   "source": [
    "def get_commaai_model(img_shape):\n",
    "    \"\"\"\n",
    "    Creates the comma.ai model, and returns a reference to the model\n",
    "    The comma.ai model's original source code is available at:\n",
    "    https://github.com/commaai/research/blob/master/train_steering_model.py\n",
    "    \"\"\"\n",
    "    row, col, ch = img_shape  # camera format\n",
    "\n",
    "    model = Sequential()\n",
    "    model.add(Lambda(lambda x: x/127.5 - 1.,\n",
    "        input_shape=(row, col, ch),\n",
    "        output_shape=(row, col, ch)))\n",
    "    model.add(Convolution2D(16, 8, 8, subsample=(4, 4), border_mode='same', activation='elu'))\n",
    "    model.add(Convolution2D(32, 5, 5, subsample=(2, 2), border_mode='same', activation='elu'))\n",
    "    model.add(Convolution2D(64, 5, 5, subsample=(2, 2), border_mode='same', activation='elu'))\n",
    "    model.add(Flatten())\n",
    "    model.add(Dropout(.2))\n",
    "    model.add(Dense(512, activation='elu'))\n",
    "    model.add(Dropout(.5))\n",
    "    model.add(Dense(1))\n",
    "\n",
    "    model.compile(optimizer='adam', loss='mean_squared_error', metrics=['accuracy'])\n",
    "\n",
    "    return model"
   ]
  },
  {
   "cell_type": "code",
   "execution_count": 4,
   "metadata": {
    "collapsed": false
   },
   "outputs": [],
   "source": [
    "def get_nvidia_model(img_shape):\n",
    "    \"\"\"\n",
    "    Creates the comma.ai model, and returns a reference to the model\n",
    "    The comma.ai model's original source code is available at:\n",
    "    https://github.com/commaai/research/blob/master/train_steering_model.py\n",
    "    \"\"\"\n",
    "    row, col, ch = img_shape  # camera format\n",
    "    \n",
    "    keep_prob = 0.2\n",
    "\n",
    "    model = Sequential()\n",
    "    model.add(Lambda(lambda x: x/127.5 - 1., input_shape=(row, col, ch)))\n",
    "    model.add(Convolution2D(24, 5, 5, subsample=(2, 2), activation='elu'))\n",
    "    model.add(Dropout(keep_prob))\n",
    "    model.add(Convolution2D(36, 5, 5, subsample=(2, 2), activation='elu'))\n",
    "    model.add(Dropout(keep_prob))\n",
    "    model.add(Convolution2D(48, 5, 5, subsample=(2, 2), activation='elu'))\n",
    "    model.add(Dropout(keep_prob))\n",
    "    model.add(Convolution2D(64, 3, 3, activation='elu'))\n",
    "#     model.add(Convolution2D(64, 3, 3, activation='elu'))\n",
    "    model.add(Dropout(keep_prob))\n",
    "    model.add(Flatten())\n",
    "    model.add(Dense(100, activation='elu'))\n",
    "    model.add(Dense(50, activation='elu'))\n",
    "    model.add(Dense(10, activation='elu'))\n",
    "    model.add(Dense(1, activation='elu'))\n",
    "\n",
    "    model.compile(optimizer='adam', loss='mean_squared_error')\n",
    "\n",
    "    return model"
   ]
  },
  {
   "cell_type": "code",
   "execution_count": 5,
   "metadata": {
    "collapsed": false
   },
   "outputs": [],
   "source": [
    "import os\n",
    "import random\n",
    "import cv2\n",
    "import numpy as np\n",
    "import pandas as pd\n",
    "import matplotlib.pyplot as plt\n",
    "import matplotlib.image as mpimg\n",
    "import pickle\n",
    "\n",
    "from sklearn.model_selection import train_test_split"
   ]
  },
  {
   "cell_type": "code",
   "execution_count": 6,
   "metadata": {
    "collapsed": false
   },
   "outputs": [],
   "source": [
    "\n",
    "# Parameters\n",
    "batch_size = 256\n",
    "resize_shape = (66, 200, 3)\n",
    "\n",
    "epochs = 5\n",
    "near_0_sampling_prob = 0.6\n",
    "near_0_threshold = 0.05\n",
    "\n",
    "\n",
    "# Read Data\n",
    "df = pd.read_csv('data/driving_log.csv', sep=',')\n",
    "\n",
    "X = df[['center', 'left', 'right']].values\n",
    "y = df['steering'].values\n",
    "\n",
    "X_train, X_val, y_train, y_val = train_test_split(X, y, test_size=0.1)\n",
    "\n",
    "\n",
    "samples_per_epoch = int(X_train.shape[0] / batch_size) * 2 * batch_size\n",
    "\n"
   ]
  },
  {
   "cell_type": "code",
   "execution_count": 7,
   "metadata": {
    "collapsed": false
   },
   "outputs": [],
   "source": [
    "def random_shadow(image):\n",
    "    \"\"\"\n",
    "    Generates and adds random shadow\n",
    "    \"\"\"\n",
    "    \n",
    "    height, width, ch = image.shape\n",
    "    # (x1, y1) and (x2, y2) forms a line\n",
    "    # xm, ym gives all the locations of the image\n",
    "    x1, y1 = width * np.random.rand(), 0\n",
    "    x2, y2 = width * np.random.rand(), height\n",
    "    xm, ym = np.mgrid[0:height, 0:width]\n",
    "\n",
    "    # mathematically speaking, we want to set 1 below the line and zero otherwise\n",
    "    # Our coordinate is up side down.  So, the above the line: \n",
    "    # (ym-y1)/(xm-x1) > (y2-y1)/(x2-x1)\n",
    "    # as x2 == x1 causes zero-division problem, we'll write it in the below form:\n",
    "    # (ym-y1)*(x2-x1) - (y2-y1)*(xm-x1) > 0\n",
    "    mask = np.zeros_like(image[:, :, 1])\n",
    "    mask[(ym - y1) * (x2 - x1) - (y2 - y1) * (xm - x1) > 0] = 1\n",
    "\n",
    "    # choose which side should have shadow and adjust saturation\n",
    "    cond = mask == np.random.randint(2)\n",
    "    s_ratio = np.random.uniform(low=0.2, high=0.5)\n",
    "\n",
    "    # adjust Saturation in HLS(Hue, Light, Saturation)\n",
    "    hls = cv2.cvtColor(image, cv2.COLOR_RGB2HLS)\n",
    "    hls[:, :, 1][cond] = hls[:, :, 1][cond] * s_ratio\n",
    "    return cv2.cvtColor(hls, cv2.COLOR_HLS2RGB)\n",
    "\n",
    "\n",
    "def random_brightness(image):\n",
    "    \"\"\"\n",
    "    Randomly adjust brightness of the image.\n",
    "    \"\"\"\n",
    "    # HSV (Hue, Saturation, Value) is also called HSB ('B' for Brightness).\n",
    "    hsv = cv2.cvtColor(image, cv2.COLOR_RGB2HSV)\n",
    "    ratio = 1.0 + 0.4 * (np.random.rand() - 0.5)\n",
    "    hsv[:,:,2] =  hsv[:,:,2] * ratio\n",
    "    return cv2.cvtColor(hsv, cv2.COLOR_HSV2RGB)\n",
    "\n",
    "\n",
    "def random_translate(image, angle, range_x=100, range_y=10):\n",
    "    \"\"\"\n",
    "    Randomly shift the image virtially and horizontally (translation).\n",
    "    \"\"\"\n",
    "    trans_x = range_x * (np.random.rand() - 0.5)\n",
    "    trans_y = range_y * (np.random.rand() - 0.5)\n",
    "    angle += trans_x * 0.002\n",
    "    trans_m = np.float32([[1, 0, trans_x], [0, 1, trans_y]])\n",
    "    height, width = image.shape[:2]\n",
    "    image = cv2.warpAffine(image, trans_m, (width, height))\n",
    "    return image, angle\n",
    "\n",
    "\n",
    "def random_flip(img, angle):\n",
    "    \n",
    "    # Add horizontal flip\n",
    "    ind_flip = np.random.randint(2)\n",
    "    if ind_flip == 0:    \n",
    "        img = np.fliplr(img)\n",
    "        angle = -angle\n",
    "        \n",
    "    return img, angle\n",
    "\n",
    "\n",
    "def preprocess(img, angle):\n",
    "    \n",
    "    #Crop\n",
    "    img = img[60:-25, :, :]\n",
    "    #Resize\n",
    "    img = cv2.resize(img, (resize_shape[1], resize_shape[0]), cv2.INTER_AREA)\n",
    "    \n",
    "    # Add shadow\n",
    "    img = random_shadow(img)\n",
    "    #Change color\n",
    "    img = random_brightness(img)\n",
    "    # Translate\n",
    "    img, angle = random_translate(img, angle, 100, 10)\n",
    "    # Random flip\n",
    "    img, angle = random_flip(img, angle)\n",
    "    \n",
    "    return img, angle\n",
    "\n",
    "def preprocessed_random_image(row, angle, root_dir):\n",
    "    \n",
    "    angles = [0, 1, 2]\n",
    "    angle_offset = [0, 0.25, -0.25]\n",
    "    \n",
    "    j = random.choice(angles)\n",
    "    angle = float(angle) + angle_offset[j]\n",
    "\n",
    "    # If left or right image does not exist, return center\n",
    "    if not row[j] or type(row[j]) is float:\n",
    "        j = 0\n",
    "\n",
    "    img_path = root_dir + '/' + row[j].strip()\n",
    "    img = cv2.imread(img_path)\n",
    "\n",
    "    img, angle = preprocess(img, angle)\n",
    "    \n",
    "    return img, angle\n",
    "    \n",
    "\n",
    "def gen_batches(X, y, batch_size=256, training=True):\n",
    "\n",
    "    ## Generator for keras training, with subsampling  \n",
    "\n",
    "    while True:\n",
    "        batch_images = []\n",
    "        batch_angles = []\n",
    "        for i_batch in range(batch_size):\n",
    "            \n",
    "            selected = False\n",
    "            while not selected:\n",
    "                i_row = np.random.randint(X.shape[0])\n",
    "                row = X[i_row]\n",
    "                angle = y[i_row]\n",
    "\n",
    "                img, angle = preprocessed_random_image(row, angle, './data')\n",
    "                \n",
    "                if np.random.rand() < near_0_sampling_prob and angle < near_0_threshold and training:\n",
    "                    continue\n",
    "                else:\n",
    "                    selected = True\n",
    "                    \n",
    "\n",
    "\n",
    "            batch_images.append(img)\n",
    "            batch_angles.append(angle)        \n",
    "            \n",
    "        batch_images = np.asarray(batch_images)\n",
    "        batch_angles = np.asarray(batch_angles)\n",
    "        yield batch_images, batch_angles"
   ]
  },
  {
   "cell_type": "code",
   "execution_count": null,
   "metadata": {
    "collapsed": false
   },
   "outputs": [],
   "source": [
    "\n",
    "# def get_data(log_file):\n",
    "    \n",
    "#     angles = [0, 1, 2]\n",
    "#     angle_offset = [0, 0.2, -0.2]\n",
    "    \n",
    "#     # Read log file and get root directory\n",
    "#     df = pd.read_csv(log_file, sep=',')\n",
    "#     root_dir = '/'.join(log_file.split('/')[:-1])\n",
    "    \n",
    "#     features = []\n",
    "#     labels = []\n",
    "    \n",
    "#     for i, row in df.iterrows():\n",
    "        \n",
    "#         img, angle = preprocessed_random_image(row, root_dir)\n",
    "\n",
    "#         features.append(img)\n",
    "#         labels.append(angle)         \n",
    "    \n",
    "#     features = np.asarray(features)\n",
    "#     labels = np.asarray(labels)\n",
    "#     return features, labels\n",
    "\n",
    "# features, labels = get_data('data/driving_log.csv')\n",
    "# print(features.shape)\n",
    "# print('Done')\n"
   ]
  },
  {
   "cell_type": "code",
   "execution_count": null,
   "metadata": {
    "collapsed": false
   },
   "outputs": [],
   "source": [
    "# data = {\n",
    "#     'features': features,\n",
    "#     'labels': labels\n",
    "# }\n",
    "# with open('data.p', 'w') as f:\n",
    "#     pickle.dump(data, f)"
   ]
  },
  {
   "cell_type": "code",
   "execution_count": null,
   "metadata": {
    "collapsed": false,
    "scrolled": true
   },
   "outputs": [],
   "source": [
    "i = random.randint(0, X.shape[0])\n",
    "\n",
    "img_path = 'data/' + X[i][0]\n",
    "img = cv2.imread(img_path)\n",
    "angle = y[i]\n",
    "\n",
    "print(angle, img.shape)\n",
    "plt.imshow(img)\n",
    "plt.show()\n",
    "\n",
    "flipped = np.fliplr(img)\n",
    "plt.imshow(flipped)\n",
    "plt.show()\n"
   ]
  },
  {
   "cell_type": "code",
   "execution_count": null,
   "metadata": {
    "collapsed": false
   },
   "outputs": [],
   "source": [
    "plt.hist(y, bins=100)\n",
    "plt.show()"
   ]
  },
  {
   "cell_type": "code",
   "execution_count": null,
   "metadata": {
    "collapsed": false
   },
   "outputs": [],
   "source": []
  },
  {
   "cell_type": "code",
   "execution_count": null,
   "metadata": {
    "collapsed": false
   },
   "outputs": [],
   "source": [
    "\n",
    "\n",
    "model = get_commaai_model(resize_shape)\n",
    "training_generator = gen_batches(X_train, y_train, batch_size=batch_size, training=True)\n",
    "validation_generator = gen_batches(X_val, y_val, batch_size=batch_size, training=False)\n",
    "history = model.fit_generator(training_generator, \n",
    "                                     nb_epoch=epochs, \n",
    "                                     samples_per_epoch=samples_per_epoch,\n",
    "                                     validation_data=validation_generator,\n",
    "                                     nb_val_samples=X_val.shape[0],\n",
    "                                     verbose = 1\n",
    "                                    \n",
    "                                    )\n",
    "\n",
    "\n",
    "model.save('comma_model.h5')"
   ]
  },
  {
   "cell_type": "code",
   "execution_count": null,
   "metadata": {
    "collapsed": false
   },
   "outputs": [],
   "source": [
    "### plot the training and validation loss for each epoch\n",
    "plt.plot(history.history['loss'])\n",
    "plt.plot(history.history['val_loss'])\n",
    "plt.title('model mean squared error loss')\n",
    "plt.ylabel('mean squared error loss')\n",
    "plt.xlabel('epoch')\n",
    "plt.legend(['training set', 'validation set'], loc='upper right')\n",
    "plt.show()"
   ]
  },
  {
   "cell_type": "code",
   "execution_count": null,
   "metadata": {
    "collapsed": false,
    "scrolled": true
   },
   "outputs": [
    {
     "name": "stdout",
     "output_type": "stream",
     "text": [
      "Epoch 1/5\n",
      "30208/30208 [==============================] - 121s - loss: 0.0899 - val_loss: 0.0970\n",
      "Epoch 2/5\n",
      "30208/30208 [==============================] - 116s - loss: 0.0796 - val_loss: 0.0930\n",
      "Epoch 3/5\n",
      "30208/30208 [==============================] - 114s - loss: 0.0765 - val_loss: 0.0911\n",
      "Epoch 4/5\n",
      "30208/30208 [==============================] - 114s - loss: 0.0738 - val_loss: 0.0836\n",
      "Epoch 5/5\n",
      "30208/30208 [==============================] - 113s - loss: 0.0725 - val_loss: 0.0843\n",
      "{'val_loss': [0.097018444112368998, 0.093039976699011664, 0.091058888605662761, 0.083570005638258796, 0.084340876766613546], 'loss': [0.089913711488499484, 0.079642658137668992, 0.076529152691364288, 0.073819313892873661, 0.072511919442627387]}\n"
     ]
    }
   ],
   "source": [
    "nvidia_model = get_nvidia_model(resize_shape)\n",
    "\n",
    "training_generator = gen_batches(X_train, y_train, batch_size=batch_size, training=True)\n",
    "validation_generator = gen_batches(X_val, y_val, batch_size=batch_size, training=False)\n",
    "history = nvidia_model.fit_generator(training_generator, \n",
    "                                     nb_epoch=epochs, \n",
    "                                     samples_per_epoch=samples_per_epoch,\n",
    "                                     validation_data=validation_generator,\n",
    "                                     nb_val_samples=X_val.shape[0],\n",
    "                                     verbose = 1\n",
    "                                    \n",
    "                                    )\n",
    "print(history.history)\n",
    "\n",
    "nvidia_model.save('nvidia_model.h5')"
   ]
  },
  {
   "cell_type": "code",
   "execution_count": null,
   "metadata": {
    "collapsed": false
   },
   "outputs": [
    {
     "data": {
      "image/png": "[encoded data removed]",
      "text/plain": [
       "<matplotlib.figure.Figure at 0x7f68faf44da0>"
      ]
     },
     "metadata": {},
     "output_type": "display_data"
    }
   ],
   "source": [
    "### plot the training and validation loss for each epoch\n",
    "plt.plot(history.history['loss'])\n",
    "plt.plot(history.history['val_loss'])\n",
    "plt.title('model mean squared error loss')\n",
    "plt.ylabel('mean squared error loss')\n",
    "plt.xlabel('epoch')\n",
    "plt.legend(['training set', 'validation set'], loc='upper right')\n",
    "plt.show()\n"
   ]
  },
  {
   "cell_type": "code",
   "execution_count": null,
   "metadata": {
    "collapsed": true
   },
   "outputs": [],
   "source": []
  }
 ],
 "metadata": {
  "anaconda-cloud": {},
  "kernelspec": {
   "display_name": "Python [conda env:carnd-term1]",
   "language": "python",
   "name": "conda-env-carnd-term1-py"
  },
  "language_info": {
   "codemirror_mode": {
    "name": "ipython",
    "version": 3
   },
   "file_extension": ".py",
   "mimetype": "text/x-python",
   "name": "python",
   "nbconvert_exporter": "python",
   "pygments_lexer": "ipython3",
   "version": "3.5.2"
  }
 },
 "nbformat": 4,
 "nbformat_minor": 1
}
