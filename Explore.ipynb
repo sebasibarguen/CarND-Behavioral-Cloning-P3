{
 "cells": [
  {
   "cell_type": "code",
   "execution_count": 1,
   "metadata": {
    "collapsed": false
   },
   "outputs": [
    {
     "name": "stderr",
     "output_type": "stream",
     "text": [
      "Using TensorFlow backend.\n"
     ]
    }
   ],
   "source": [
    "import os\n",
    "import argparse\n",
    "import json\n",
    "from keras.models import Sequential\n",
    "from keras.layers import Dense, Dropout, Flatten, Lambda, ELU\n",
    "from keras.layers.convolutional import Convolution2D\n",
    "\n"
   ]
  },
  {
   "cell_type": "code",
   "execution_count": 2,
   "metadata": {
    "collapsed": true
   },
   "outputs": [],
   "source": [
    "def get_commaai_model():\n",
    "    \"\"\"\n",
    "    Creates the comma.ai model, and returns a reference to the model\n",
    "    The comma.ai model's original source code is available at:\n",
    "    https://github.com/commaai/research/blob/master/train_steering_model.py\n",
    "    \"\"\"\n",
    "    ch, row, col = CH, H, W  # camera format\n",
    "\n",
    "    model = Sequential()\n",
    "    model.add(Lambda(lambda x: x/127.5 - 1.,\n",
    "        input_shape=(row, col, ch),\n",
    "        output_shape=(row, col, ch)))\n",
    "    model.add(Convolution2D(16, 8, 8, subsample=(4, 4), border_mode='same', W_regularizer=l2(L2_REG_SCALE)))\n",
    "    model.add(ELU())\n",
    "    model.add(Convolution2D(32, 5, 5, subsample=(2, 2), border_mode='same', W_regularizer=l2(L2_REG_SCALE)))\n",
    "    model.add(ELU())\n",
    "    model.add(Convolution2D(64, 5, 5, subsample=(2, 2), border_mode='same', W_regularizer=l2(L2_REG_SCALE)))\n",
    "    model.add(Flatten())\n",
    "    model.add(Dropout(.2))\n",
    "    model.add(ELU())\n",
    "    model.add(Dense(512, W_regularizer=l2(0.)))\n",
    "    model.add(Dropout(.5))\n",
    "    model.add(ELU())\n",
    "    model.add(Dense(1, W_regularizer=l2(0.)))\n",
    "\n",
    "    model.compile(optimizer=Adam(lr=LR), loss='mean_squared_error')\n",
    "\n",
    "    return model"
   ]
  },
  {
   "cell_type": "code",
   "execution_count": 3,
   "metadata": {
    "collapsed": false
   },
   "outputs": [
    {
     "name": "stdout",
     "output_type": "stream",
     "text": [
      "                                                   0   1   2    3    4    5  \\\n",
      "0  /Users/sebasibarguen/Documents/Dev/learn/carnd... NaN NaN  0.0  0.0  0.0   \n",
      "1  /Users/sebasibarguen/Documents/Dev/learn/carnd... NaN NaN  0.0  0.0  0.0   \n",
      "2  /Users/sebasibarguen/Documents/Dev/learn/carnd... NaN NaN  0.0  0.0  0.0   \n",
      "3  /Users/sebasibarguen/Documents/Dev/learn/carnd... NaN NaN  0.0  0.0  0.0   \n",
      "4  /Users/sebasibarguen/Documents/Dev/learn/carnd... NaN NaN  0.0  0.0  0.0   \n",
      "\n",
      "          6  \n",
      "0  0.000007  \n",
      "1  0.000011  \n",
      "2  0.000009  \n",
      "3  0.000013  \n",
      "4  0.000007  \n"
     ]
    }
   ],
   "source": [
    "import numpy as np\n",
    "import pandas as pd\n",
    "from scipy.misc import imread\n",
    "import matplotlib.pyplot as plt\n",
    "import pickle\n",
    "\n",
    "log_file = 'sim_data/driving_log.csv'\n",
    "df = pd.read_csv(log_file, sep=',',header=None)\n",
    "\n",
    "print(df.head())"
   ]
  },
  {
   "cell_type": "code",
   "execution_count": 4,
   "metadata": {
    "collapsed": false
   },
   "outputs": [],
   "source": [
    "\n",
    "img_shape = imread(df[0][0]).shape\n",
    "features = np.zeros([len(df), img_shape[0], img_shape[1], img_shape[2]])\n",
    "labels = np.zeros([len(df), 1])\n",
    "\n",
    "for i, row in df.iterrows():\n",
    "    features[i] = imread(row[0])\n",
    "    labels[i] = row[3]\n",
    "\n",
    "# data = {\n",
    "#     'features': features,\n",
    "#     'labels': labels\n",
    "# }\n",
    "\n",
    "# with open('train.p', 'wr') as f:\n",
    "#     pickle.dump(data, f)"
   ]
  },
  {
   "cell_type": "code",
   "execution_count": 5,
   "metadata": {
    "collapsed": false
   },
   "outputs": [],
   "source": [
    "from sklearn.model_selection import train_test_split\n",
    "\n",
    "X_train, X_val, y_train, y_val = train_test_split(features, labels, test_size=0.3)"
   ]
  },
  {
   "cell_type": "code",
   "execution_count": null,
   "metadata": {
    "collapsed": false
   },
   "outputs": [],
   "source": [
    "model = get_commaai_model()\n",
    "\n",
    "model.fit(X_train, y_train)"
   ]
  },
  {
   "cell_type": "code",
   "execution_count": null,
   "metadata": {
    "collapsed": true
   },
   "outputs": [],
   "source": []
  }
 ],
 "metadata": {
  "anaconda-cloud": {},
  "kernelspec": {
   "display_name": "Python [conda env:carndEnv]",
   "language": "python",
   "name": "conda-env-carndEnv-py"
  },
  "language_info": {
   "codemirror_mode": {
    "name": "ipython",
    "version": 3
   },
   "file_extension": ".py",
   "mimetype": "text/x-python",
   "name": "python",
   "nbconvert_exporter": "python",
   "pygments_lexer": "ipython3",
   "version": "3.5.2"
  }
 },
 "nbformat": 4,
 "nbformat_minor": 1
}
